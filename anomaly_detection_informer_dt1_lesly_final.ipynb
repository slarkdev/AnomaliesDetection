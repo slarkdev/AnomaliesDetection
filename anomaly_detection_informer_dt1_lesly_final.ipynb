{
  "cells": [
    {
      "cell_type": "markdown",
      "metadata": {
        "id": "view-in-github",
        "colab_type": "text"
      },
      "source": [
        "<a href=\"https://colab.research.google.com/github/slarkdev/AnomaliesDetection/blob/main/anomaly_detection_informer_dt1_lesly_final.ipynb\" target=\"_parent\"><img src=\"https://colab.research.google.com/assets/colab-badge.svg\" alt=\"Open In Colab\"/></a>"
      ]
    },
    {
      "cell_type": "code",
      "source": [
        "!pip install tensorflow"
      ],
      "metadata": {
        "colab": {
          "base_uri": "https://localhost:8080/"
        },
        "id": "fjPQ5JLoP84B",
        "outputId": "d97b911c-008c-4081-b16d-7711dc360363"
      },
      "execution_count": null,
      "outputs": [
        {
          "output_type": "stream",
          "name": "stdout",
          "text": [
            "Collecting tensorflow\n",
            "  Downloading tensorflow-2.19.0-cp311-cp311-manylinux_2_17_x86_64.manylinux2014_x86_64.whl.metadata (4.1 kB)\n",
            "Requirement already satisfied: absl-py>=1.0.0 in /usr/local/lib/python3.11/dist-packages (from tensorflow) (1.4.0)\n",
            "Collecting astunparse>=1.6.0 (from tensorflow)\n",
            "  Downloading astunparse-1.6.3-py2.py3-none-any.whl.metadata (4.4 kB)\n",
            "Collecting flatbuffers>=24.3.25 (from tensorflow)\n",
            "  Downloading flatbuffers-25.2.10-py2.py3-none-any.whl.metadata (875 bytes)\n",
            "Requirement already satisfied: gast!=0.5.0,!=0.5.1,!=0.5.2,>=0.2.1 in /usr/local/lib/python3.11/dist-packages (from tensorflow) (0.6.0)\n",
            "Collecting google-pasta>=0.1.1 (from tensorflow)\n",
            "  Downloading google_pasta-0.2.0-py3-none-any.whl.metadata (814 bytes)\n",
            "Collecting libclang>=13.0.0 (from tensorflow)\n",
            "  Downloading libclang-18.1.1-py2.py3-none-manylinux2010_x86_64.whl.metadata (5.2 kB)\n",
            "Requirement already satisfied: opt-einsum>=2.3.2 in /usr/local/lib/python3.11/dist-packages (from tensorflow) (3.4.0)\n",
            "Requirement already satisfied: packaging in /usr/local/lib/python3.11/dist-packages (from tensorflow) (25.0)\n",
            "Requirement already satisfied: protobuf!=4.21.0,!=4.21.1,!=4.21.2,!=4.21.3,!=4.21.4,!=4.21.5,<6.0.0dev,>=3.20.3 in /usr/local/lib/python3.11/dist-packages (from tensorflow) (5.29.5)\n",
            "Requirement already satisfied: requests<3,>=2.21.0 in /usr/local/lib/python3.11/dist-packages (from tensorflow) (2.32.3)\n",
            "Requirement already satisfied: setuptools in /usr/local/lib/python3.11/dist-packages (from tensorflow) (75.2.0)\n",
            "Requirement already satisfied: six>=1.12.0 in /usr/local/lib/python3.11/dist-packages (from tensorflow) (1.17.0)\n",
            "Requirement already satisfied: termcolor>=1.1.0 in /usr/local/lib/python3.11/dist-packages (from tensorflow) (3.1.0)\n",
            "Requirement already satisfied: typing-extensions>=3.6.6 in /usr/local/lib/python3.11/dist-packages (from tensorflow) (4.14.0)\n",
            "Requirement already satisfied: wrapt>=1.11.0 in /usr/local/lib/python3.11/dist-packages (from tensorflow) (1.17.2)\n",
            "Requirement already satisfied: grpcio<2.0,>=1.24.3 in /usr/local/lib/python3.11/dist-packages (from tensorflow) (1.73.0)\n",
            "Collecting tensorboard~=2.19.0 (from tensorflow)\n",
            "  Downloading tensorboard-2.19.0-py3-none-any.whl.metadata (1.8 kB)\n",
            "Requirement already satisfied: keras>=3.5.0 in /usr/local/lib/python3.11/dist-packages (from tensorflow) (3.8.0)\n",
            "Requirement already satisfied: numpy<2.2.0,>=1.26.0 in /usr/local/lib/python3.11/dist-packages (from tensorflow) (2.0.2)\n",
            "Requirement already satisfied: h5py>=3.11.0 in /usr/local/lib/python3.11/dist-packages (from tensorflow) (3.14.0)\n",
            "Requirement already satisfied: ml-dtypes<1.0.0,>=0.5.1 in /usr/local/lib/python3.11/dist-packages (from tensorflow) (0.5.1)\n",
            "Collecting tensorflow-io-gcs-filesystem>=0.23.1 (from tensorflow)\n",
            "  Downloading tensorflow_io_gcs_filesystem-0.37.1-cp311-cp311-manylinux_2_17_x86_64.manylinux2014_x86_64.whl.metadata (14 kB)\n",
            "Collecting wheel<1.0,>=0.23.0 (from astunparse>=1.6.0->tensorflow)\n",
            "  Downloading wheel-0.45.1-py3-none-any.whl.metadata (2.3 kB)\n",
            "Requirement already satisfied: rich in /usr/local/lib/python3.11/dist-packages (from keras>=3.5.0->tensorflow) (14.0.0)\n",
            "Requirement already satisfied: namex in /usr/local/lib/python3.11/dist-packages (from keras>=3.5.0->tensorflow) (0.1.0)\n",
            "Requirement already satisfied: optree in /usr/local/lib/python3.11/dist-packages (from keras>=3.5.0->tensorflow) (0.16.0)\n",
            "Requirement already satisfied: charset-normalizer<4,>=2 in /usr/local/lib/python3.11/dist-packages (from requests<3,>=2.21.0->tensorflow) (3.4.2)\n",
            "Requirement already satisfied: idna<4,>=2.5 in /usr/local/lib/python3.11/dist-packages (from requests<3,>=2.21.0->tensorflow) (3.10)\n",
            "Requirement already satisfied: urllib3<3,>=1.21.1 in /usr/local/lib/python3.11/dist-packages (from requests<3,>=2.21.0->tensorflow) (2.4.0)\n",
            "Requirement already satisfied: certifi>=2017.4.17 in /usr/local/lib/python3.11/dist-packages (from requests<3,>=2.21.0->tensorflow) (2025.6.15)\n",
            "Requirement already satisfied: markdown>=2.6.8 in /usr/lib/python3/dist-packages (from tensorboard~=2.19.0->tensorflow) (3.3.6)\n",
            "Collecting tensorboard-data-server<0.8.0,>=0.7.0 (from tensorboard~=2.19.0->tensorflow)\n",
            "  Downloading tensorboard_data_server-0.7.2-py3-none-manylinux_2_31_x86_64.whl.metadata (1.1 kB)\n",
            "Collecting werkzeug>=1.0.1 (from tensorboard~=2.19.0->tensorflow)\n",
            "  Downloading werkzeug-3.1.3-py3-none-any.whl.metadata (3.7 kB)\n",
            "Requirement already satisfied: MarkupSafe>=2.1.1 in /usr/local/lib/python3.11/dist-packages (from werkzeug>=1.0.1->tensorboard~=2.19.0->tensorflow) (3.0.2)\n",
            "Requirement already satisfied: markdown-it-py>=2.2.0 in /usr/local/lib/python3.11/dist-packages (from rich->keras>=3.5.0->tensorflow) (3.0.0)\n",
            "Requirement already satisfied: pygments<3.0.0,>=2.13.0 in /usr/local/lib/python3.11/dist-packages (from rich->keras>=3.5.0->tensorflow) (2.19.1)\n",
            "Requirement already satisfied: mdurl~=0.1 in /usr/local/lib/python3.11/dist-packages (from markdown-it-py>=2.2.0->rich->keras>=3.5.0->tensorflow) (0.1.2)\n",
            "Downloading tensorflow-2.19.0-cp311-cp311-manylinux_2_17_x86_64.manylinux2014_x86_64.whl (644.9 MB)\n",
            "\u001b[2K   \u001b[90m━━━━━━━━━━━━━━━━━━━━━━━━━━━━━━━━━━━━━━━━\u001b[0m \u001b[32m644.9/644.9 MB\u001b[0m \u001b[31m1.3 MB/s\u001b[0m eta \u001b[36m0:00:00\u001b[0m\n",
            "\u001b[?25hDownloading astunparse-1.6.3-py2.py3-none-any.whl (12 kB)\n",
            "Downloading flatbuffers-25.2.10-py2.py3-none-any.whl (30 kB)\n",
            "Downloading google_pasta-0.2.0-py3-none-any.whl (57 kB)\n",
            "\u001b[2K   \u001b[90m━━━━━━━━━━━━━━━━━━━━━━━━━━━━━━━━━━━━━━━━\u001b[0m \u001b[32m57.5/57.5 kB\u001b[0m \u001b[31m5.2 MB/s\u001b[0m eta \u001b[36m0:00:00\u001b[0m\n",
            "\u001b[?25hDownloading libclang-18.1.1-py2.py3-none-manylinux2010_x86_64.whl (24.5 MB)\n",
            "\u001b[2K   \u001b[90m━━━━━━━━━━━━━━━━━━━━━━━━━━━━━━━━━━━━━━━━\u001b[0m \u001b[32m24.5/24.5 MB\u001b[0m \u001b[31m66.1 MB/s\u001b[0m eta \u001b[36m0:00:00\u001b[0m\n",
            "\u001b[?25hDownloading tensorboard-2.19.0-py3-none-any.whl (5.5 MB)\n",
            "\u001b[2K   \u001b[90m━━━━━━━━━━━━━━━━━━━━━━━━━━━━━━━━━━━━━━━━\u001b[0m \u001b[32m5.5/5.5 MB\u001b[0m \u001b[31m119.0 MB/s\u001b[0m eta \u001b[36m0:00:00\u001b[0m\n",
            "\u001b[?25hDownloading tensorflow_io_gcs_filesystem-0.37.1-cp311-cp311-manylinux_2_17_x86_64.manylinux2014_x86_64.whl (5.1 MB)\n",
            "\u001b[2K   \u001b[90m━━━━━━━━━━━━━━━━━━━━━━━━━━━━━━━━━━━━━━━━\u001b[0m \u001b[32m5.1/5.1 MB\u001b[0m \u001b[31m116.5 MB/s\u001b[0m eta \u001b[36m0:00:00\u001b[0m\n",
            "\u001b[?25hDownloading tensorboard_data_server-0.7.2-py3-none-manylinux_2_31_x86_64.whl (6.6 MB)\n",
            "\u001b[2K   \u001b[90m━━━━━━━━━━━━━━━━━━━━━━━━━━━━━━━━━━━━━━━━\u001b[0m \u001b[32m6.6/6.6 MB\u001b[0m \u001b[31m121.9 MB/s\u001b[0m eta \u001b[36m0:00:00\u001b[0m\n",
            "\u001b[?25hDownloading werkzeug-3.1.3-py3-none-any.whl (224 kB)\n",
            "\u001b[2K   \u001b[90m━━━━━━━━━━━━━━━━━━━━━━━━━━━━━━━━━━━━━━━━\u001b[0m \u001b[32m224.5/224.5 kB\u001b[0m \u001b[31m18.3 MB/s\u001b[0m eta \u001b[36m0:00:00\u001b[0m\n",
            "\u001b[?25hDownloading wheel-0.45.1-py3-none-any.whl (72 kB)\n",
            "\u001b[2K   \u001b[90m━━━━━━━━━━━━━━━━━━━━━━━━━━━━━━━━━━━━━━━━\u001b[0m \u001b[32m72.5/72.5 kB\u001b[0m \u001b[31m6.0 MB/s\u001b[0m eta \u001b[36m0:00:00\u001b[0m\n",
            "\u001b[?25hInstalling collected packages: libclang, flatbuffers, wheel, werkzeug, tensorflow-io-gcs-filesystem, tensorboard-data-server, google-pasta, tensorboard, astunparse, tensorflow\n",
            "Successfully installed astunparse-1.6.3 flatbuffers-25.2.10 google-pasta-0.2.0 libclang-18.1.1 tensorboard-2.19.0 tensorboard-data-server-0.7.2 tensorflow-2.19.0 tensorflow-io-gcs-filesystem-0.37.1 werkzeug-3.1.3 wheel-0.45.1\n"
          ]
        }
      ]
    },
    {
      "cell_type": "code",
      "execution_count": null,
      "metadata": {
        "id": "PbVkw3i7mg0Z"
      },
      "outputs": [],
      "source": [
        "import numpy as np\n",
        "import tensorflow as tf\n",
        "from tensorflow import keras\n",
        "import pandas as pd\n",
        "import seaborn as sns\n",
        "from pylab import rcParams\n",
        "import matplotlib.pyplot as plt\n",
        "from matplotlib import rc\n",
        "from pandas.plotting import register_matplotlib_converters\n",
        "import os\n",
        "import datetime\n",
        "import random\n",
        "from sklearn.metrics import classification_report, accuracy_score, f1_score, roc_auc_score, recall_score, precision_score\n",
        "from sklearn.preprocessing import StandardScaler, MinMaxScaler\n",
        "import tensorflow as tf\n",
        "from tensorflow.keras.models import Sequential, Model\n",
        "from tensorflow.keras.layers import Conv1D, MaxPooling1D, Flatten, Dense, BatchNormalization, Dropout\n",
        "\n",
        "from tensorflow.keras.layers import Input\n",
        "\n",
        "# Fijar semilla aleatoria\n",
        "SEED = 42\n",
        "np.random.seed(SEED)\n",
        "tf.random.set_seed(SEED)\n",
        "random.seed(SEED)\n",
        "\n"
      ]
    },
    {
      "cell_type": "code",
      "source": [
        "import os\n",
        "os.environ[\"PYTORCH_CUDA_ALLOC_CONF\"] = \"expandable_segments:True\"\n"
      ],
      "metadata": {
        "id": "oD7TONMS8Gec"
      },
      "execution_count": null,
      "outputs": []
    },
    {
      "cell_type": "code",
      "source": [
        "# 1️⃣  Instalar (solo si falla el import)\n",
        "# !pip install --quiet torch torchvision torchaudio\n",
        "\n",
        "# 2️⃣  Importar\n",
        "import torch\n",
        "import torch.nn as nn\n",
        "import torch.optim as optim\n",
        "print(\"PyTorch version:\", torch.__version__)\n",
        "\n",
        "# 3️⃣  Verificar GPU (opcional)\n",
        "device = torch.device(\"cuda\" if torch.cuda.is_available() else \"cpu\")\n",
        "print(\"Using device:\", device)"
      ],
      "metadata": {
        "colab": {
          "base_uri": "https://localhost:8080/"
        },
        "id": "syULgf_W8Laf",
        "outputId": "7c05ba26-15b2-4898-e8e7-f404628dfaa6"
      },
      "execution_count": null,
      "outputs": [
        {
          "output_type": "stream",
          "name": "stdout",
          "text": [
            "PyTorch version: 2.6.0+cpu\n",
            "Using device: cpu\n"
          ]
        }
      ]
    },
    {
      "cell_type": "code",
      "source": [
        "from google.colab import drive\n",
        "drive.mount('/content/drive')"
      ],
      "metadata": {
        "colab": {
          "base_uri": "https://localhost:8080/"
        },
        "id": "KoQEqaXL5lkw",
        "outputId": "5c3b4ccf-ea0f-4c89-c2ec-ab72c5bfc763"
      },
      "execution_count": null,
      "outputs": [
        {
          "output_type": "stream",
          "name": "stdout",
          "text": [
            "Mounted at /content/drive\n"
          ]
        }
      ]
    },
    {
      "cell_type": "code",
      "source": [
        "import sys\n",
        "\n",
        "informer_path = '/content/drive/MyDrive/informer-lesly/Informer2020'\n",
        "#if informer_path not in sys.path:\n",
        "sys.path.append(informer_path)\n",
        "\n"
      ],
      "metadata": {
        "id": "DmmZdgtez2z0"
      },
      "execution_count": null,
      "outputs": []
    },
    {
      "cell_type": "code",
      "source": [
        "!ls /content/drive/MyDrive/informer-lesly/Informer2020/models"
      ],
      "metadata": {
        "colab": {
          "base_uri": "https://localhost:8080/"
        },
        "id": "FXu8fC4Sl5HM",
        "outputId": "b659a90b-56d6-4712-c89c-3aabdd03a736"
      },
      "execution_count": null,
      "outputs": [
        {
          "output_type": "stream",
          "name": "stdout",
          "text": [
            "attn.py  decoder.py  embed.py  encoder.py  __init__.py\tmodel.py  __pycache__\n"
          ]
        }
      ]
    },
    {
      "cell_type": "code",
      "source": [
        "import os\n",
        "print(os.listdir('/content/drive/MyDrive/informer-lesly/Informer2020/models'))\n"
      ],
      "metadata": {
        "colab": {
          "base_uri": "https://localhost:8080/"
        },
        "id": "8OM8NxLfoX2e",
        "outputId": "66514089-c146-445d-d9a3-77eec10d257d"
      },
      "execution_count": null,
      "outputs": [
        {
          "output_type": "stream",
          "name": "stdout",
          "text": [
            "['__init__.py', 'attn.py', 'decoder.py', 'embed.py', 'encoder.py', '__pycache__', 'model.py']\n"
          ]
        }
      ]
    },
    {
      "cell_type": "code",
      "source": [
        "import importlib.util\n",
        "spec = importlib.util.find_spec(\"models.model\")\n",
        "print(\"Found!\" if spec else \"Not found.\")\n"
      ],
      "metadata": {
        "colab": {
          "base_uri": "https://localhost:8080/"
        },
        "id": "A92fy2s0oeyI",
        "outputId": "2fc73921-815f-4c67-d20e-a6cfa9d493cf"
      },
      "execution_count": null,
      "outputs": [
        {
          "output_type": "stream",
          "name": "stdout",
          "text": [
            "Found!\n"
          ]
        }
      ]
    },
    {
      "cell_type": "code",
      "source": [
        "#import importlib\n",
        "#importlib.reload(models.model)"
      ],
      "metadata": {
        "id": "IDz4xqgOFyh4",
        "colab": {
          "base_uri": "https://localhost:8080/",
          "height": 158
        },
        "outputId": "ff9ac4e4-30d4-497c-df2c-638b1c59420e"
      },
      "execution_count": null,
      "outputs": [
        {
          "output_type": "error",
          "ename": "NameError",
          "evalue": "name 'models' is not defined",
          "traceback": [
            "\u001b[0;31m---------------------------------------------------------------------------\u001b[0m",
            "\u001b[0;31mNameError\u001b[0m                                 Traceback (most recent call last)",
            "\u001b[0;32m/tmp/ipython-input-11-1262364118.py\u001b[0m in \u001b[0;36m<cell line: 0>\u001b[0;34m()\u001b[0m\n\u001b[1;32m      1\u001b[0m \u001b[0;32mimport\u001b[0m \u001b[0mimportlib\u001b[0m\u001b[0;34m\u001b[0m\u001b[0;34m\u001b[0m\u001b[0m\n\u001b[0;32m----> 2\u001b[0;31m \u001b[0mimportlib\u001b[0m\u001b[0;34m.\u001b[0m\u001b[0mreload\u001b[0m\u001b[0;34m(\u001b[0m\u001b[0mmodels\u001b[0m\u001b[0;34m.\u001b[0m\u001b[0mmodel\u001b[0m\u001b[0;34m)\u001b[0m\u001b[0;34m\u001b[0m\u001b[0;34m\u001b[0m\u001b[0m\n\u001b[0m",
            "\u001b[0;31mNameError\u001b[0m: name 'models' is not defined"
          ]
        }
      ]
    },
    {
      "cell_type": "code",
      "source": [
        "from models.model import Informer"
      ],
      "metadata": {
        "id": "lE4QtGnoluaY"
      },
      "execution_count": null,
      "outputs": []
    },
    {
      "cell_type": "code",
      "source": [
        "def create_sequences(data, sequence_length):\n",
        " X = []\n",
        " y = []\n",
        " for i in range(len(data) - sequence_length):\n",
        "    X.append(data.iloc[i:i+sequence_length][input_columns].values)\n",
        "    y.append(data.iloc[i+sequence_length][output_columns].values)\n",
        " return np.array(X), np.array(y)"
      ],
      "metadata": {
        "id": "Z9j7epC-1wrg"
      },
      "execution_count": null,
      "outputs": []
    },
    {
      "cell_type": "code",
      "source": [
        "def guardar_proyecto(core_informer, y_test, anomalías, matriz, epoch_actual, nombre_base=\"modelo_anomalias\"):\n",
        "\n",
        "    # 🕒 Crear carpeta con timestamp\n",
        "    timestamp = datetime.datetime.now().strftime(\"%Y%m%d_%H%M%S\")\n",
        "    carpeta = f\"/content/drive/MyDrive/3w-dataset-train-test/entrenamientos-2/{nombre_base}_{timestamp}\"\n",
        "    os.makedirs(carpeta, exist_ok=True)\n",
        "\n",
        "    # 1. Guardar el modelo\n",
        "    checkpoint = {\n",
        "        'epoch': epoch_actual,\n",
        "        'model_state': core_informer.state_dict(),\n",
        "        'optimizer_state': optimizer.state_dict()\n",
        "    }\n",
        "    torch.save(checkpoint, 'informer.pth')\n",
        "\n",
        "    # 2. Guardar métricas\n",
        "    reporte = classification_report(y_test, anomalías)\n",
        "    acc = accuracy_score(y_test, anomalías)\n",
        "    f1 = f1_score(y_test, anomalías)\n",
        "    recall = recall_score(y_test, anomalías)\n",
        "    precision = precision_score(y_test,anomalías)\n",
        "    auc = roc_auc_score(y_test, anomalías)\n",
        "\n",
        "    with open(os.path.join(carpeta, \"reporte_metricas.txt\"), \"w\") as f:\n",
        "        f.write(\"REPORTE DE CLASIFICACIÓN\\n\")\n",
        "        f.write(reporte)\n",
        "        f.write(\"\\n\\nMétricas adicionales:\\n\")\n",
        "        f.write(f\"Accuracy: {acc:.4f}\\n\")\n",
        "        f.write(f\"Precision: {precision:.4f}\\n\")\n",
        "        f.write(f\"Recall: {recall:.4f}\\n\")\n",
        "        f.write(f\"F1-score: {f1:.4f}\\n\")\n",
        "        f.write(f\"AUC-ROC: {auc:.4f}\\n\")\n",
        "\n",
        "\n",
        "    total_anomalias = int(np.sum(y_test))  # Cantidad total de anomalías\n",
        "    anomalías_predichas = int(np.sum(anomalías.astype(int)))  # Convertir booleanos a enteros\n",
        "\n",
        "    # Crear gráfico de barras\n",
        "    plt.bar([\"Real Anomalies\", \"Anomalies Detected\"], [total_anomalias, anomalías_predichas], color=['red', 'blue'])\n",
        "\n",
        "    # Personalizar gráfico\n",
        "    plt.ylabel(\"Number of Anomalies\")\n",
        "    plt.title(\"Comparison of Real vs. Predicted Anomalies\")\n",
        "    plt.legend()\n",
        "    plt.grid(True)\n",
        "    plt.savefig(os.path.join(carpeta, \"grafico_comparison_real_vs_anomalies.png\"))\n",
        "    plt.close()\n",
        "\n",
        "    # grafico 4 matriz de confusion\n",
        "    sns.heatmap(matriz, annot=True, fmt=\"d\", cmap=\"coolwarm\", xticklabels=[\"Normal\", \"Anomalous\"], yticklabels=[\"Normal\", \"Anomalous\"])\n",
        "    plt.xlabel(\"Prediction\")\n",
        "    plt.ylabel(\"True Class\")\n",
        "    plt.title(\"Confusion Matrix\")\n",
        "    plt.savefig(os.path.join(carpeta, \"grafico_confusion_matriz.png\"))\n",
        "    plt.close()\n",
        "\n",
        "\n",
        "    print(f\"✅ Todo guardado exitosamente en la carpeta: {carpeta}\")\n"
      ],
      "metadata": {
        "id": "HEULW7jWWyyT"
      },
      "execution_count": null,
      "outputs": []
    },
    {
      "cell_type": "code",
      "source": [
        "class WindowDataset(torch.utils.data.Dataset):\n",
        "    def __init__(self, X, y, seq_len=96, label_len=48, pred_len=24):\n",
        "        self.X = X\n",
        "        self.y = y\n",
        "        self.seq_len = seq_len\n",
        "        self.label_len = label_len\n",
        "        self.pred_len = pred_len\n",
        "\n",
        "    def __len__(self):\n",
        "        return len(self.X)\n",
        "\n",
        "    def __getitem__(self, idx):\n",
        "        x_enc = self.X[idx][:self.seq_len]\n",
        "        x_dec = np.concatenate([\n",
        "            self.X[idx][self.seq_len - self.label_len:self.seq_len],\n",
        "            np.zeros((self.pred_len, self.X.shape[2]))\n",
        "        ], axis=0)\n",
        "\n",
        "        # marcas temporales (puedes usar timestamps reales aquí)\n",
        "        x_mark_enc = np.zeros((self.seq_len, 4))       # 4 features temporales como hora, día, etc.\n",
        "        x_mark_dec = np.zeros((self.label_len + self.pred_len, 4))\n",
        "\n",
        "        return (\n",
        "            torch.tensor(x_enc, dtype=torch.float32),\n",
        "            torch.tensor(x_mark_enc, dtype=torch.float32),\n",
        "            torch.tensor(x_dec, dtype=torch.float32),\n",
        "            torch.tensor(x_mark_dec, dtype=torch.float32),\n",
        "            torch.tensor(self.y[idx], dtype=torch.float32)\n",
        "        )\n",
        "\n",
        "\n",
        "#class WindowDataset(torch.utils.data.Dataset):\n",
        " #   def __init__(self, x, y):\n",
        "  #      self.x = torch.tensor(x, dtype=torch.float32)\n",
        "  #      self.y = torch.tensor(y, dtype=torch.float32)\n",
        "\n",
        "  #  def __len__(self):\n",
        "  #      return len(self.x)\n",
        "\n",
        "  #  def __getitem__(self, idx):\n",
        "  #      return self.x[idx], self.y[idx]\n",
        "\n"
      ],
      "metadata": {
        "id": "Alkruy8o7lHs"
      },
      "execution_count": null,
      "outputs": []
    },
    {
      "cell_type": "code",
      "source": [
        "class InformerBin(torch.nn.Module):\n",
        "    def __init__(self, core):\n",
        "        super().__init__()\n",
        "        self.core = core\n",
        "\n",
        "    def forward(self, x, return_latent=False):  # añade flag\n",
        "        if x.dim() != 3:\n",
        "            raise ValueError(f\"Expected input of shape (B, L, F), but got {x.shape}\")\n",
        "\n",
        "        B, L, F = x.shape\n",
        "\n",
        "        x_mark_enc = torch.zeros(B, L, 4, device=x.device)\n",
        "        x_dec      = torch.zeros(B, 1, F, device=x.device)\n",
        "        x_mark_dec = torch.zeros(B, 1, 4, device=x.device)\n",
        "\n",
        "        out = self.core(\n",
        "            x, x_mark_enc, x_dec, x_mark_dec,\n",
        "            return_latent=return_latent  # ← aquí está la clave\n",
        "        )\n",
        "\n",
        "        if return_latent:\n",
        "            return out[:, -1, :]  # si estás extrayendo embeddings\n",
        "        else:\n",
        "            return out[:, 0, 0]   # logits como antes"
      ],
      "metadata": {
        "id": "pzrjwdmk55Co"
      },
      "execution_count": null,
      "outputs": []
    },
    {
      "cell_type": "code",
      "execution_count": null,
      "metadata": {
        "id": "dhcfLdSHm6p-",
        "colab": {
          "base_uri": "https://localhost:8080/",
          "height": 455
        },
        "outputId": "8e24f460-978d-4bf5-f0c6-40db49d38326"
      },
      "outputs": [
        {
          "output_type": "execute_result",
          "data": {
            "text/plain": [
              "                        P-TPT    T-TPT  P-MON-CKP  T-JUS-CKP  P-JUS-CKGL  \\\n",
              "timestamp                                                                  \n",
              "2014-01-26 03:33:21  0.995385  0.04225   0.989734   0.015978    1.000000   \n",
              "2014-01-26 03:33:22  0.995385  0.04225   0.989734   0.015978    1.000000   \n",
              "2014-01-26 03:33:23  0.995385  0.04225   0.989734   0.015978    1.000000   \n",
              "2014-01-26 03:33:24  0.995385  0.04225   0.989734   0.015978    1.000000   \n",
              "2014-01-26 03:33:25  0.995385  0.04225   0.989734   0.015977    1.000000   \n",
              "...                       ...      ...        ...        ...         ...   \n",
              "2014-01-26 22:59:56  0.000000  1.00000   0.041357   0.000000    0.000117   \n",
              "2014-01-26 22:59:57  0.000000  1.00000   0.041345   0.000000    0.000085   \n",
              "2014-01-26 22:59:58  0.000000  1.00000   0.041333   0.000000    0.000059   \n",
              "2014-01-26 22:59:59  0.000000  1.00000   0.041321   0.000000    0.000026   \n",
              "2014-01-26 23:00:00  0.000000  1.00000   0.041309   0.000000    0.000000   \n",
              "\n",
              "                     class  \n",
              "timestamp                   \n",
              "2014-01-26 03:33:21    0.0  \n",
              "2014-01-26 03:33:22    0.0  \n",
              "2014-01-26 03:33:23    0.0  \n",
              "2014-01-26 03:33:24    0.0  \n",
              "2014-01-26 03:33:25    0.0  \n",
              "...                    ...  \n",
              "2014-01-26 22:59:56    1.0  \n",
              "2014-01-26 22:59:57    1.0  \n",
              "2014-01-26 22:59:58    1.0  \n",
              "2014-01-26 22:59:59    1.0  \n",
              "2014-01-26 23:00:00    1.0  \n",
              "\n",
              "[70000 rows x 6 columns]"
            ],
            "text/html": [
              "\n",
              "  <div id=\"df-5b6ce7f8-c034-4e6a-92a0-558488694c23\" class=\"colab-df-container\">\n",
              "    <div>\n",
              "<style scoped>\n",
              "    .dataframe tbody tr th:only-of-type {\n",
              "        vertical-align: middle;\n",
              "    }\n",
              "\n",
              "    .dataframe tbody tr th {\n",
              "        vertical-align: top;\n",
              "    }\n",
              "\n",
              "    .dataframe thead th {\n",
              "        text-align: right;\n",
              "    }\n",
              "</style>\n",
              "<table border=\"1\" class=\"dataframe\">\n",
              "  <thead>\n",
              "    <tr style=\"text-align: right;\">\n",
              "      <th></th>\n",
              "      <th>P-TPT</th>\n",
              "      <th>T-TPT</th>\n",
              "      <th>P-MON-CKP</th>\n",
              "      <th>T-JUS-CKP</th>\n",
              "      <th>P-JUS-CKGL</th>\n",
              "      <th>class</th>\n",
              "    </tr>\n",
              "    <tr>\n",
              "      <th>timestamp</th>\n",
              "      <th></th>\n",
              "      <th></th>\n",
              "      <th></th>\n",
              "      <th></th>\n",
              "      <th></th>\n",
              "      <th></th>\n",
              "    </tr>\n",
              "  </thead>\n",
              "  <tbody>\n",
              "    <tr>\n",
              "      <th>2014-01-26 03:33:21</th>\n",
              "      <td>0.995385</td>\n",
              "      <td>0.04225</td>\n",
              "      <td>0.989734</td>\n",
              "      <td>0.015978</td>\n",
              "      <td>1.000000</td>\n",
              "      <td>0.0</td>\n",
              "    </tr>\n",
              "    <tr>\n",
              "      <th>2014-01-26 03:33:22</th>\n",
              "      <td>0.995385</td>\n",
              "      <td>0.04225</td>\n",
              "      <td>0.989734</td>\n",
              "      <td>0.015978</td>\n",
              "      <td>1.000000</td>\n",
              "      <td>0.0</td>\n",
              "    </tr>\n",
              "    <tr>\n",
              "      <th>2014-01-26 03:33:23</th>\n",
              "      <td>0.995385</td>\n",
              "      <td>0.04225</td>\n",
              "      <td>0.989734</td>\n",
              "      <td>0.015978</td>\n",
              "      <td>1.000000</td>\n",
              "      <td>0.0</td>\n",
              "    </tr>\n",
              "    <tr>\n",
              "      <th>2014-01-26 03:33:24</th>\n",
              "      <td>0.995385</td>\n",
              "      <td>0.04225</td>\n",
              "      <td>0.989734</td>\n",
              "      <td>0.015978</td>\n",
              "      <td>1.000000</td>\n",
              "      <td>0.0</td>\n",
              "    </tr>\n",
              "    <tr>\n",
              "      <th>2014-01-26 03:33:25</th>\n",
              "      <td>0.995385</td>\n",
              "      <td>0.04225</td>\n",
              "      <td>0.989734</td>\n",
              "      <td>0.015977</td>\n",
              "      <td>1.000000</td>\n",
              "      <td>0.0</td>\n",
              "    </tr>\n",
              "    <tr>\n",
              "      <th>...</th>\n",
              "      <td>...</td>\n",
              "      <td>...</td>\n",
              "      <td>...</td>\n",
              "      <td>...</td>\n",
              "      <td>...</td>\n",
              "      <td>...</td>\n",
              "    </tr>\n",
              "    <tr>\n",
              "      <th>2014-01-26 22:59:56</th>\n",
              "      <td>0.000000</td>\n",
              "      <td>1.00000</td>\n",
              "      <td>0.041357</td>\n",
              "      <td>0.000000</td>\n",
              "      <td>0.000117</td>\n",
              "      <td>1.0</td>\n",
              "    </tr>\n",
              "    <tr>\n",
              "      <th>2014-01-26 22:59:57</th>\n",
              "      <td>0.000000</td>\n",
              "      <td>1.00000</td>\n",
              "      <td>0.041345</td>\n",
              "      <td>0.000000</td>\n",
              "      <td>0.000085</td>\n",
              "      <td>1.0</td>\n",
              "    </tr>\n",
              "    <tr>\n",
              "      <th>2014-01-26 22:59:58</th>\n",
              "      <td>0.000000</td>\n",
              "      <td>1.00000</td>\n",
              "      <td>0.041333</td>\n",
              "      <td>0.000000</td>\n",
              "      <td>0.000059</td>\n",
              "      <td>1.0</td>\n",
              "    </tr>\n",
              "    <tr>\n",
              "      <th>2014-01-26 22:59:59</th>\n",
              "      <td>0.000000</td>\n",
              "      <td>1.00000</td>\n",
              "      <td>0.041321</td>\n",
              "      <td>0.000000</td>\n",
              "      <td>0.000026</td>\n",
              "      <td>1.0</td>\n",
              "    </tr>\n",
              "    <tr>\n",
              "      <th>2014-01-26 23:00:00</th>\n",
              "      <td>0.000000</td>\n",
              "      <td>1.00000</td>\n",
              "      <td>0.041309</td>\n",
              "      <td>0.000000</td>\n",
              "      <td>0.000000</td>\n",
              "      <td>1.0</td>\n",
              "    </tr>\n",
              "  </tbody>\n",
              "</table>\n",
              "<p>70000 rows × 6 columns</p>\n",
              "</div>\n",
              "    <div class=\"colab-df-buttons\">\n",
              "\n",
              "  <div class=\"colab-df-container\">\n",
              "    <button class=\"colab-df-convert\" onclick=\"convertToInteractive('df-5b6ce7f8-c034-4e6a-92a0-558488694c23')\"\n",
              "            title=\"Convert this dataframe to an interactive table.\"\n",
              "            style=\"display:none;\">\n",
              "\n",
              "  <svg xmlns=\"http://www.w3.org/2000/svg\" height=\"24px\" viewBox=\"0 -960 960 960\">\n",
              "    <path d=\"M120-120v-720h720v720H120Zm60-500h600v-160H180v160Zm220 220h160v-160H400v160Zm0 220h160v-160H400v160ZM180-400h160v-160H180v160Zm440 0h160v-160H620v160ZM180-180h160v-160H180v160Zm440 0h160v-160H620v160Z\"/>\n",
              "  </svg>\n",
              "    </button>\n",
              "\n",
              "  <style>\n",
              "    .colab-df-container {\n",
              "      display:flex;\n",
              "      gap: 12px;\n",
              "    }\n",
              "\n",
              "    .colab-df-convert {\n",
              "      background-color: #E8F0FE;\n",
              "      border: none;\n",
              "      border-radius: 50%;\n",
              "      cursor: pointer;\n",
              "      display: none;\n",
              "      fill: #1967D2;\n",
              "      height: 32px;\n",
              "      padding: 0 0 0 0;\n",
              "      width: 32px;\n",
              "    }\n",
              "\n",
              "    .colab-df-convert:hover {\n",
              "      background-color: #E2EBFA;\n",
              "      box-shadow: 0px 1px 2px rgba(60, 64, 67, 0.3), 0px 1px 3px 1px rgba(60, 64, 67, 0.15);\n",
              "      fill: #174EA6;\n",
              "    }\n",
              "\n",
              "    .colab-df-buttons div {\n",
              "      margin-bottom: 4px;\n",
              "    }\n",
              "\n",
              "    [theme=dark] .colab-df-convert {\n",
              "      background-color: #3B4455;\n",
              "      fill: #D2E3FC;\n",
              "    }\n",
              "\n",
              "    [theme=dark] .colab-df-convert:hover {\n",
              "      background-color: #434B5C;\n",
              "      box-shadow: 0px 1px 3px 1px rgba(0, 0, 0, 0.15);\n",
              "      filter: drop-shadow(0px 1px 2px rgba(0, 0, 0, 0.3));\n",
              "      fill: #FFFFFF;\n",
              "    }\n",
              "  </style>\n",
              "\n",
              "    <script>\n",
              "      const buttonEl =\n",
              "        document.querySelector('#df-5b6ce7f8-c034-4e6a-92a0-558488694c23 button.colab-df-convert');\n",
              "      buttonEl.style.display =\n",
              "        google.colab.kernel.accessAllowed ? 'block' : 'none';\n",
              "\n",
              "      async function convertToInteractive(key) {\n",
              "        const element = document.querySelector('#df-5b6ce7f8-c034-4e6a-92a0-558488694c23');\n",
              "        const dataTable =\n",
              "          await google.colab.kernel.invokeFunction('convertToInteractive',\n",
              "                                                    [key], {});\n",
              "        if (!dataTable) return;\n",
              "\n",
              "        const docLinkHtml = 'Like what you see? Visit the ' +\n",
              "          '<a target=\"_blank\" href=https://colab.research.google.com/notebooks/data_table.ipynb>data table notebook</a>'\n",
              "          + ' to learn more about interactive tables.';\n",
              "        element.innerHTML = '';\n",
              "        dataTable['output_type'] = 'display_data';\n",
              "        await google.colab.output.renderOutput(dataTable, element);\n",
              "        const docLink = document.createElement('div');\n",
              "        docLink.innerHTML = docLinkHtml;\n",
              "        element.appendChild(docLink);\n",
              "      }\n",
              "    </script>\n",
              "  </div>\n",
              "\n",
              "\n",
              "    <div id=\"df-7098380a-ecd3-4965-ae35-7d824d17e517\">\n",
              "      <button class=\"colab-df-quickchart\" onclick=\"quickchart('df-7098380a-ecd3-4965-ae35-7d824d17e517')\"\n",
              "                title=\"Suggest charts\"\n",
              "                style=\"display:none;\">\n",
              "\n",
              "<svg xmlns=\"http://www.w3.org/2000/svg\" height=\"24px\"viewBox=\"0 0 24 24\"\n",
              "     width=\"24px\">\n",
              "    <g>\n",
              "        <path d=\"M19 3H5c-1.1 0-2 .9-2 2v14c0 1.1.9 2 2 2h14c1.1 0 2-.9 2-2V5c0-1.1-.9-2-2-2zM9 17H7v-7h2v7zm4 0h-2V7h2v10zm4 0h-2v-4h2v4z\"/>\n",
              "    </g>\n",
              "</svg>\n",
              "      </button>\n",
              "\n",
              "<style>\n",
              "  .colab-df-quickchart {\n",
              "      --bg-color: #E8F0FE;\n",
              "      --fill-color: #1967D2;\n",
              "      --hover-bg-color: #E2EBFA;\n",
              "      --hover-fill-color: #174EA6;\n",
              "      --disabled-fill-color: #AAA;\n",
              "      --disabled-bg-color: #DDD;\n",
              "  }\n",
              "\n",
              "  [theme=dark] .colab-df-quickchart {\n",
              "      --bg-color: #3B4455;\n",
              "      --fill-color: #D2E3FC;\n",
              "      --hover-bg-color: #434B5C;\n",
              "      --hover-fill-color: #FFFFFF;\n",
              "      --disabled-bg-color: #3B4455;\n",
              "      --disabled-fill-color: #666;\n",
              "  }\n",
              "\n",
              "  .colab-df-quickchart {\n",
              "    background-color: var(--bg-color);\n",
              "    border: none;\n",
              "    border-radius: 50%;\n",
              "    cursor: pointer;\n",
              "    display: none;\n",
              "    fill: var(--fill-color);\n",
              "    height: 32px;\n",
              "    padding: 0;\n",
              "    width: 32px;\n",
              "  }\n",
              "\n",
              "  .colab-df-quickchart:hover {\n",
              "    background-color: var(--hover-bg-color);\n",
              "    box-shadow: 0 1px 2px rgba(60, 64, 67, 0.3), 0 1px 3px 1px rgba(60, 64, 67, 0.15);\n",
              "    fill: var(--button-hover-fill-color);\n",
              "  }\n",
              "\n",
              "  .colab-df-quickchart-complete:disabled,\n",
              "  .colab-df-quickchart-complete:disabled:hover {\n",
              "    background-color: var(--disabled-bg-color);\n",
              "    fill: var(--disabled-fill-color);\n",
              "    box-shadow: none;\n",
              "  }\n",
              "\n",
              "  .colab-df-spinner {\n",
              "    border: 2px solid var(--fill-color);\n",
              "    border-color: transparent;\n",
              "    border-bottom-color: var(--fill-color);\n",
              "    animation:\n",
              "      spin 1s steps(1) infinite;\n",
              "  }\n",
              "\n",
              "  @keyframes spin {\n",
              "    0% {\n",
              "      border-color: transparent;\n",
              "      border-bottom-color: var(--fill-color);\n",
              "      border-left-color: var(--fill-color);\n",
              "    }\n",
              "    20% {\n",
              "      border-color: transparent;\n",
              "      border-left-color: var(--fill-color);\n",
              "      border-top-color: var(--fill-color);\n",
              "    }\n",
              "    30% {\n",
              "      border-color: transparent;\n",
              "      border-left-color: var(--fill-color);\n",
              "      border-top-color: var(--fill-color);\n",
              "      border-right-color: var(--fill-color);\n",
              "    }\n",
              "    40% {\n",
              "      border-color: transparent;\n",
              "      border-right-color: var(--fill-color);\n",
              "      border-top-color: var(--fill-color);\n",
              "    }\n",
              "    60% {\n",
              "      border-color: transparent;\n",
              "      border-right-color: var(--fill-color);\n",
              "    }\n",
              "    80% {\n",
              "      border-color: transparent;\n",
              "      border-right-color: var(--fill-color);\n",
              "      border-bottom-color: var(--fill-color);\n",
              "    }\n",
              "    90% {\n",
              "      border-color: transparent;\n",
              "      border-bottom-color: var(--fill-color);\n",
              "    }\n",
              "  }\n",
              "</style>\n",
              "\n",
              "      <script>\n",
              "        async function quickchart(key) {\n",
              "          const quickchartButtonEl =\n",
              "            document.querySelector('#' + key + ' button');\n",
              "          quickchartButtonEl.disabled = true;  // To prevent multiple clicks.\n",
              "          quickchartButtonEl.classList.add('colab-df-spinner');\n",
              "          try {\n",
              "            const charts = await google.colab.kernel.invokeFunction(\n",
              "                'suggestCharts', [key], {});\n",
              "          } catch (error) {\n",
              "            console.error('Error during call to suggestCharts:', error);\n",
              "          }\n",
              "          quickchartButtonEl.classList.remove('colab-df-spinner');\n",
              "          quickchartButtonEl.classList.add('colab-df-quickchart-complete');\n",
              "        }\n",
              "        (() => {\n",
              "          let quickchartButtonEl =\n",
              "            document.querySelector('#df-7098380a-ecd3-4965-ae35-7d824d17e517 button');\n",
              "          quickchartButtonEl.style.display =\n",
              "            google.colab.kernel.accessAllowed ? 'block' : 'none';\n",
              "        })();\n",
              "      </script>\n",
              "    </div>\n",
              "\n",
              "  <div id=\"id_0f4aa2eb-a4fe-46e8-8e54-b50331267815\">\n",
              "    <style>\n",
              "      .colab-df-generate {\n",
              "        background-color: #E8F0FE;\n",
              "        border: none;\n",
              "        border-radius: 50%;\n",
              "        cursor: pointer;\n",
              "        display: none;\n",
              "        fill: #1967D2;\n",
              "        height: 32px;\n",
              "        padding: 0 0 0 0;\n",
              "        width: 32px;\n",
              "      }\n",
              "\n",
              "      .colab-df-generate:hover {\n",
              "        background-color: #E2EBFA;\n",
              "        box-shadow: 0px 1px 2px rgba(60, 64, 67, 0.3), 0px 1px 3px 1px rgba(60, 64, 67, 0.15);\n",
              "        fill: #174EA6;\n",
              "      }\n",
              "\n",
              "      [theme=dark] .colab-df-generate {\n",
              "        background-color: #3B4455;\n",
              "        fill: #D2E3FC;\n",
              "      }\n",
              "\n",
              "      [theme=dark] .colab-df-generate:hover {\n",
              "        background-color: #434B5C;\n",
              "        box-shadow: 0px 1px 3px 1px rgba(0, 0, 0, 0.15);\n",
              "        filter: drop-shadow(0px 1px 2px rgba(0, 0, 0, 0.3));\n",
              "        fill: #FFFFFF;\n",
              "      }\n",
              "    </style>\n",
              "    <button class=\"colab-df-generate\" onclick=\"generateWithVariable('df1')\"\n",
              "            title=\"Generate code using this dataframe.\"\n",
              "            style=\"display:none;\">\n",
              "\n",
              "  <svg xmlns=\"http://www.w3.org/2000/svg\" height=\"24px\"viewBox=\"0 0 24 24\"\n",
              "       width=\"24px\">\n",
              "    <path d=\"M7,19H8.4L18.45,9,17,7.55,7,17.6ZM5,21V16.75L18.45,3.32a2,2,0,0,1,2.83,0l1.4,1.43a1.91,1.91,0,0,1,.58,1.4,1.91,1.91,0,0,1-.58,1.4L9.25,21ZM18.45,9,17,7.55Zm-12,3A5.31,5.31,0,0,0,4.9,8.1,5.31,5.31,0,0,0,1,6.5,5.31,5.31,0,0,0,4.9,4.9,5.31,5.31,0,0,0,6.5,1,5.31,5.31,0,0,0,8.1,4.9,5.31,5.31,0,0,0,12,6.5,5.46,5.46,0,0,0,6.5,12Z\"/>\n",
              "  </svg>\n",
              "    </button>\n",
              "    <script>\n",
              "      (() => {\n",
              "      const buttonEl =\n",
              "        document.querySelector('#id_0f4aa2eb-a4fe-46e8-8e54-b50331267815 button.colab-df-generate');\n",
              "      buttonEl.style.display =\n",
              "        google.colab.kernel.accessAllowed ? 'block' : 'none';\n",
              "\n",
              "      buttonEl.onclick = () => {\n",
              "        google.colab.notebook.generateWithVariable('df1');\n",
              "      }\n",
              "      })();\n",
              "    </script>\n",
              "  </div>\n",
              "\n",
              "    </div>\n",
              "  </div>\n"
            ],
            "application/vnd.google.colaboratory.intrinsic+json": {
              "type": "dataframe",
              "variable_name": "df1",
              "summary": "{\n  \"name\": \"df1\",\n  \"rows\": 70000,\n  \"fields\": [\n    {\n      \"column\": \"timestamp\",\n      \"properties\": {\n        \"dtype\": \"date\",\n        \"min\": \"2014-01-26 03:33:21\",\n        \"max\": \"2014-01-26 23:00:00\",\n        \"num_unique_values\": 70000,\n        \"samples\": [\n          \"2014-01-26 16:32:11\",\n          \"2014-01-26 16:59:54\",\n          \"2014-01-26 15:03:37\"\n        ],\n        \"semantic_type\": \"\",\n        \"description\": \"\"\n      }\n    },\n    {\n      \"column\": \"P-TPT\",\n      \"properties\": {\n        \"dtype\": \"number\",\n        \"std\": 0.28885562836691075,\n        \"min\": 0.0,\n        \"max\": 1.0,\n        \"num_unique_values\": 66365,\n        \"samples\": [\n          0.9954719745165104,\n          0.9954070208358604,\n          0.9953882027253272\n        ],\n        \"semantic_type\": \"\",\n        \"description\": \"\"\n      }\n    },\n    {\n      \"column\": \"T-TPT\",\n      \"properties\": {\n        \"dtype\": \"number\",\n        \"std\": 0.25310633778564795,\n        \"min\": 0.0,\n        \"max\": 1.0,\n        \"num_unique_values\": 65863,\n        \"samples\": [\n          0.0331986847006757,\n          0.0387417666260826,\n          0.0358654565663129\n        ],\n        \"semantic_type\": \"\",\n        \"description\": \"\"\n      }\n    },\n    {\n      \"column\": \"P-MON-CKP\",\n      \"properties\": {\n        \"dtype\": \"number\",\n        \"std\": 0.2953664121498734,\n        \"min\": 0.0,\n        \"max\": 1.0,\n        \"num_unique_values\": 69895,\n        \"samples\": [\n          0.9898394351030384,\n          0.990177830935032,\n          0.9902359208308248\n        ],\n        \"semantic_type\": \"\",\n        \"description\": \"\"\n      }\n    },\n    {\n      \"column\": \"T-JUS-CKP\",\n      \"properties\": {\n        \"dtype\": \"number\",\n        \"std\": 0.0051289768155655165,\n        \"min\": 0.0,\n        \"max\": 0.0159784792545946,\n        \"num_unique_values\": 59250,\n        \"samples\": [\n          0.0141087633661897,\n          0.0153449926511237,\n          0.0103040681759953\n        ],\n        \"semantic_type\": \"\",\n        \"description\": \"\"\n      }\n    },\n    {\n      \"column\": \"P-JUS-CKGL\",\n      \"properties\": {\n        \"dtype\": \"number\",\n        \"std\": 0.27933334238676494,\n        \"min\": 0.0,\n        \"max\": 1.0,\n        \"num_unique_values\": 10751,\n        \"samples\": [\n          0.8716747772312736,\n          0.1578494174744591,\n          0.1839880494200834\n        ],\n        \"semantic_type\": \"\",\n        \"description\": \"\"\n      }\n    },\n    {\n      \"column\": \"class\",\n      \"properties\": {\n        \"dtype\": \"number\",\n        \"std\": 0.3441963499844754,\n        \"min\": 0.0,\n        \"max\": 1.0,\n        \"num_unique_values\": 2,\n        \"samples\": [\n          1.0,\n          0.0\n        ],\n        \"semantic_type\": \"\",\n        \"description\": \"\"\n      }\n    }\n  ]\n}"
            }
          },
          "metadata": {},
          "execution_count": 15
        }
      ],
      "source": [
        "# Especificar las rutas de los archivos en Google Drive\n",
        "ruta_csv1 = \"/content/drive/MyDrive/3w-dataset-train-test/dataset-interpolado-Anomalia1.csv\"\n",
        "ruta_csv2 = \"/content/drive/MyDrive/3w-dataset-train-test/dataset-interpolado-Anomalia2.csv\"\n",
        "ruta_csv3 = \"/content/drive/MyDrive/3w-dataset-train-test/dataset-test-06.csv\"\n",
        "\n",
        "#df0 = pd.read_csv(ruta_dataset0, parse_dates=['timestamp'], index_col='timestamp')\n",
        "# Leer los CSV en DataFrames\n",
        "df1 = pd.read_csv(ruta_csv1, parse_dates=['timestamp'], index_col='timestamp')\n",
        "df2 = pd.read_csv(ruta_csv2, parse_dates=['timestamp'], index_col='timestamp')\n",
        "df3 = pd.read_csv(ruta_csv3, parse_dates=['timestamp'], index_col='timestamp')\n",
        "\n",
        "df1"
      ]
    },
    {
      "cell_type": "code",
      "source": [
        "from sklearn.model_selection import train_test_split\n",
        "\n",
        "train, test = train_test_split(df1, test_size=0.3, shuffle=False)"
      ],
      "metadata": {
        "id": "3GfPHTf-SDva"
      },
      "execution_count": null,
      "outputs": []
    },
    {
      "cell_type": "code",
      "source": [
        "columns_names = df1.columns.values\n",
        "columns_names"
      ],
      "metadata": {
        "colab": {
          "base_uri": "https://localhost:8080/"
        },
        "id": "M9wjqcil5w1b",
        "outputId": "99f23c3c-5e6b-4ef8-c032-0990346f81f9"
      },
      "execution_count": null,
      "outputs": [
        {
          "output_type": "execute_result",
          "data": {
            "text/plain": [
              "array(['P-TPT', 'T-TPT', 'P-MON-CKP', 'T-JUS-CKP', 'P-JUS-CKGL', 'class'],\n",
              "      dtype=object)"
            ]
          },
          "metadata": {},
          "execution_count": 17
        }
      ]
    },
    {
      "cell_type": "code",
      "source": [
        "# Definir las columnas de entrada y salida:\n",
        "input_columns = ['P-TPT',\t'T-TPT','P-MON-CKP', 'T-JUS-CKP','P-JUS-CKGL',]\n",
        "output_columns = ['class']"
      ],
      "metadata": {
        "id": "yNee7ANK95o7"
      },
      "execution_count": null,
      "outputs": []
    },
    {
      "cell_type": "code",
      "source": [
        "train = train.sort_values(\"timestamp\")\n",
        "test = test.sort_values(\"timestamp\")\n",
        "\n",
        "print(train['class'].value_counts())\n",
        "print(test['class'].value_counts())"
      ],
      "metadata": {
        "colab": {
          "base_uri": "https://localhost:8080/"
        },
        "id": "5I1Vw5ZJ2pR5",
        "outputId": "b0f0d8eb-bc7f-466b-907b-252501907dd8"
      },
      "execution_count": null,
      "outputs": [
        {
          "output_type": "stream",
          "name": "stdout",
          "text": [
            "class\n",
            "0.0    49000\n",
            "Name: count, dtype: int64\n",
            "class\n",
            "0.0    11387\n",
            "1.0     9613\n",
            "Name: count, dtype: int64\n"
          ]
        }
      ]
    },
    {
      "cell_type": "code",
      "source": [
        "VentanaTiempo = 400\n",
        "\n",
        "# Crear secuencias de entrenamiento\n",
        "X_train, y_train = create_sequences(train, VentanaTiempo)\n",
        "X_test, y_test = create_sequences(test, VentanaTiempo)\n",
        "\n",
        "print(X_train.shape)\n",
        "print(X_test.shape)"
      ],
      "metadata": {
        "colab": {
          "base_uri": "https://localhost:8080/"
        },
        "id": "jo1k77YF24sX",
        "outputId": "9accacff-babb-45a1-f7ae-4ae21916aaa9"
      },
      "execution_count": null,
      "outputs": [
        {
          "output_type": "stream",
          "name": "stdout",
          "text": [
            "(48600, 400, 5)\n",
            "(20600, 400, 5)\n"
          ]
        }
      ]
    },
    {
      "cell_type": "code",
      "source": [
        "y_train = y_train.astype(np.float32)\n",
        "y_test = y_test.astype(np.float32)"
      ],
      "metadata": {
        "id": "xfT5_9GKwv6l"
      },
      "execution_count": null,
      "outputs": []
    },
    {
      "cell_type": "code",
      "source": [
        "d_model = 64 # puedes variar este valor\n",
        "seq_len = VentanaTiempo\n",
        "\n",
        "# Modelo Informer\n",
        "model = Informer(\n",
        "    enc_in=5, #X_train.shape[2],\n",
        "    dec_in=5, #X_train.shape[2],\n",
        "    c_out=1, #X_train.shape[2],\n",
        "    seq_len=seq_len,\n",
        "    label_len=0,\n",
        "    out_len=1,\n",
        "    e_layers=2,\n",
        "    d_layers=1,\n",
        "    factor=1,\n",
        "    dropout=0.1,\n",
        "    d_model = d_model,\n",
        "    embed='timeF',\n",
        "    output_attention=False,\n",
        "    distil=True,\n",
        ")\n",
        "\n",
        "if np.sum(y_train == 1) > 0:\n",
        "    peso = np.sum(y_train == 0) / np.sum(y_train == 1)\n",
        "    pos_weight = torch.tensor([peso], device=device)\n",
        "    criterion = torch.nn.BCEWithLogitsLoss(pos_weight=pos_weight)\n",
        "else:\n",
        "    criterion = torch.nn.BCEWithLogitsLoss()\n",
        "\n",
        "optimizer  = torch.optim.Adam(model.parameters(), lr=1e-4)\n",
        "device     = torch.device('cuda' if torch.cuda.is_available() else 'cpu')\n",
        "model.to(device)\n"
      ],
      "metadata": {
        "colab": {
          "base_uri": "https://localhost:8080/"
        },
        "id": "jwxXv29dxvri",
        "outputId": "3721fe2d-7d80-468d-8bd5-95013746557d"
      },
      "execution_count": null,
      "outputs": [
        {
          "output_type": "execute_result",
          "data": {
            "text/plain": [
              "Informer(\n",
              "  (enc_embedding): DataEmbedding(\n",
              "    (value_embedding): TokenEmbedding(\n",
              "      (tokenConv): Conv1d(5, 64, kernel_size=(3,), stride=(1,), padding=(1,), padding_mode=circular)\n",
              "    )\n",
              "    (position_embedding): PositionalEmbedding()\n",
              "    (temporal_embedding): TimeFeatureEmbedding(\n",
              "      (embed): Linear(in_features=4, out_features=64, bias=True)\n",
              "    )\n",
              "    (dropout): Dropout(p=0.1, inplace=False)\n",
              "  )\n",
              "  (dec_embedding): DataEmbedding(\n",
              "    (value_embedding): TokenEmbedding(\n",
              "      (tokenConv): Conv1d(5, 64, kernel_size=(3,), stride=(1,), padding=(1,), padding_mode=circular)\n",
              "    )\n",
              "    (position_embedding): PositionalEmbedding()\n",
              "    (temporal_embedding): TimeFeatureEmbedding(\n",
              "      (embed): Linear(in_features=4, out_features=64, bias=True)\n",
              "    )\n",
              "    (dropout): Dropout(p=0.1, inplace=False)\n",
              "  )\n",
              "  (encoder): Encoder(\n",
              "    (attn_layers): ModuleList(\n",
              "      (0-1): 2 x EncoderLayer(\n",
              "        (attention): AttentionLayer(\n",
              "          (inner_attention): ProbAttention(\n",
              "            (dropout): Dropout(p=0.1, inplace=False)\n",
              "          )\n",
              "          (query_projection): Linear(in_features=64, out_features=64, bias=True)\n",
              "          (key_projection): Linear(in_features=64, out_features=64, bias=True)\n",
              "          (value_projection): Linear(in_features=64, out_features=64, bias=True)\n",
              "          (out_projection): Linear(in_features=64, out_features=64, bias=True)\n",
              "        )\n",
              "        (conv1): Conv1d(64, 512, kernel_size=(1,), stride=(1,))\n",
              "        (conv2): Conv1d(512, 64, kernel_size=(1,), stride=(1,))\n",
              "        (norm1): LayerNorm((64,), eps=1e-05, elementwise_affine=True)\n",
              "        (norm2): LayerNorm((64,), eps=1e-05, elementwise_affine=True)\n",
              "        (dropout): Dropout(p=0.1, inplace=False)\n",
              "      )\n",
              "    )\n",
              "    (conv_layers): ModuleList(\n",
              "      (0): ConvLayer(\n",
              "        (downConv): Conv1d(64, 64, kernel_size=(3,), stride=(1,), padding=(1,), padding_mode=circular)\n",
              "        (norm): BatchNorm1d(64, eps=1e-05, momentum=0.1, affine=True, track_running_stats=True)\n",
              "        (activation): ELU(alpha=1.0)\n",
              "        (maxPool): MaxPool1d(kernel_size=3, stride=2, padding=1, dilation=1, ceil_mode=False)\n",
              "      )\n",
              "    )\n",
              "    (norm): LayerNorm((64,), eps=1e-05, elementwise_affine=True)\n",
              "  )\n",
              "  (decoder): Decoder(\n",
              "    (layers): ModuleList(\n",
              "      (0): DecoderLayer(\n",
              "        (self_attention): AttentionLayer(\n",
              "          (inner_attention): ProbAttention(\n",
              "            (dropout): Dropout(p=0.1, inplace=False)\n",
              "          )\n",
              "          (query_projection): Linear(in_features=64, out_features=64, bias=True)\n",
              "          (key_projection): Linear(in_features=64, out_features=64, bias=True)\n",
              "          (value_projection): Linear(in_features=64, out_features=64, bias=True)\n",
              "          (out_projection): Linear(in_features=64, out_features=64, bias=True)\n",
              "        )\n",
              "        (cross_attention): AttentionLayer(\n",
              "          (inner_attention): FullAttention(\n",
              "            (dropout): Dropout(p=0.1, inplace=False)\n",
              "          )\n",
              "          (query_projection): Linear(in_features=64, out_features=64, bias=True)\n",
              "          (key_projection): Linear(in_features=64, out_features=64, bias=True)\n",
              "          (value_projection): Linear(in_features=64, out_features=64, bias=True)\n",
              "          (out_projection): Linear(in_features=64, out_features=64, bias=True)\n",
              "        )\n",
              "        (conv1): Conv1d(64, 512, kernel_size=(1,), stride=(1,))\n",
              "        (conv2): Conv1d(512, 64, kernel_size=(1,), stride=(1,))\n",
              "        (norm1): LayerNorm((64,), eps=1e-05, elementwise_affine=True)\n",
              "        (norm2): LayerNorm((64,), eps=1e-05, elementwise_affine=True)\n",
              "        (norm3): LayerNorm((64,), eps=1e-05, elementwise_affine=True)\n",
              "        (dropout): Dropout(p=0.1, inplace=False)\n",
              "      )\n",
              "    )\n",
              "    (norm): LayerNorm((64,), eps=1e-05, elementwise_affine=True)\n",
              "  )\n",
              "  (projection): Linear(in_features=64, out_features=1, bias=True)\n",
              ")"
            ]
          },
          "metadata": {},
          "execution_count": 64
        }
      ]
    },
    {
      "cell_type": "code",
      "source": [
        "import torch.nn.init as init\n",
        "for m in model.projection.modules():\n",
        "    if isinstance(m, nn.Linear):\n",
        "        nn.init.xavier_uniform_(m.weight)\n",
        "        nn.init.zeros_(m.bias)"
      ],
      "metadata": {
        "id": "EMbupJiJ6DDx"
      },
      "execution_count": null,
      "outputs": []
    },
    {
      "cell_type": "code",
      "source": [
        "for m in model.modules():\n",
        "    if isinstance(m, torch.nn.Linear):\n",
        "        init.xavier_uniform_(m.weight)\n",
        "        if m.bias is not None:\n",
        "            init.zeros_(m.bias)\n"
      ],
      "metadata": {
        "id": "6IJNU5pC58nH"
      },
      "execution_count": null,
      "outputs": []
    },
    {
      "cell_type": "code",
      "source": [
        "batch_size = 64\n",
        "\n",
        "train_dataset = WindowDataset(X_train, y_train)\n",
        "train_loader = torch.utils.data.DataLoader(train_dataset, batch_size=batch_size)\n",
        "\n",
        "test_dataset = WindowDataset(X_test, y_test)\n",
        "test_loader = torch.utils.data.DataLoader(test_dataset, batch_size=batch_size)\n"
      ],
      "metadata": {
        "id": "3NSUW__6jUtU"
      },
      "execution_count": null,
      "outputs": []
    },
    {
      "cell_type": "code",
      "source": [
        "core_informer = InformerBin(model).to(device)\n"
      ],
      "metadata": {
        "id": "tfvBun0ZRypl"
      },
      "execution_count": null,
      "outputs": []
    },
    {
      "cell_type": "code",
      "source": [
        "num_epochs = 10\n",
        "\n",
        "for epoch in range(num_epochs):\n",
        "    core_informer.train()\n",
        "    total_loss = 0\n",
        "\n",
        "    mean_logit_epoch = []\n",
        "    std_logit_epoch = []\n",
        "\n",
        "    for x_enc, x_mark_enc, x_dec, x_mark_dec, yb in train_loader:\n",
        "        xb = x_enc.to(device)\n",
        "        yb = yb.to(device).float()\n",
        "\n",
        "\n",
        "\n",
        "        # 🔧 Ajusta dimensiones\n",
        "        if yb.dim() > 1:\n",
        "            yb = yb.squeeze(1)  # Convierte [batch_size, 1] → [batch_size]\n",
        "\n",
        "        optimizer.zero_grad()\n",
        "\n",
        "        logits = core_informer(xb)\n",
        "\n",
        "        logits = logits.view(-1)  # Asegura [batch_size]\n",
        "\n",
        "         # 🔍 Logging de estadísticas de logits\n",
        "        mean_logit_epoch.append(logits.mean().item())\n",
        "        std_logit_epoch.append(logits.std().item())\n",
        "\n",
        "        loss = criterion(logits, yb)  # Ahora sí: dimensiones iguales\n",
        "        loss.backward()\n",
        "        optimizer.step()\n",
        "\n",
        "        total_loss += loss.item()\n",
        "\n",
        "    print(f\"Epoch {epoch+1}: Loss = {total_loss/len(train_loader):.4f} | \"\n",
        "          f\"logits.mean = {np.mean(mean_logit_epoch):.4f} | \"\n",
        "          f\"logits.std = {np.mean(std_logit_epoch):.4f}\")\n",
        "\n",
        "\n"
      ],
      "metadata": {
        "colab": {
          "base_uri": "https://localhost:8080/"
        },
        "id": "hXpYmkgeq7BA",
        "outputId": "8515e235-6986-4318-a23b-c0add957f5fb"
      },
      "execution_count": null,
      "outputs": [
        {
          "output_type": "stream",
          "name": "stdout",
          "text": [
            "Epoch 1: Loss = 0.0000 | logits.mean = -11.0155 | logits.std = 0.2324\n",
            "Epoch 2: Loss = 0.0000 | logits.mean = -11.2740 | logits.std = 0.2238\n",
            "Epoch 3: Loss = 0.0000 | logits.mean = -11.5617 | logits.std = 0.2175\n",
            "Epoch 4: Loss = 0.0000 | logits.mean = -11.8745 | logits.std = 0.2146\n",
            "Epoch 5: Loss = 0.0000 | logits.mean = -12.2125 | logits.std = 0.2189\n",
            "Epoch 6: Loss = 0.0000 | logits.mean = -12.5770 | logits.std = 0.2249\n",
            "Epoch 7: Loss = 0.0000 | logits.mean = -12.9637 | logits.std = 0.2326\n",
            "Epoch 8: Loss = 0.0000 | logits.mean = -13.3672 | logits.std = 0.2413\n",
            "Epoch 9: Loss = 0.0000 | logits.mean = -13.7812 | logits.std = 0.2538\n",
            "Epoch 10: Loss = 0.0000 | logits.mean = -14.2055 | logits.std = 0.2660\n"
          ]
        }
      ]
    },
    {
      "cell_type": "code",
      "source": [
        "model.eval()\n",
        "activaciones_train = []\n",
        "\n",
        "with torch.no_grad():\n",
        "    for x_enc, x_mark_enc, x_dec, x_mark_dec, yb in train_loader:\n",
        "        xb = x_enc.to(device)\n",
        "\n",
        "        #xb = xb.to(device)\n",
        "        latentes = core_informer(xb, return_latent=True)\n",
        "        activaciones_train.append(latentes.cpu())\n",
        "\n",
        "activaciones_train = torch.cat(activaciones_train, dim=0)\n",
        "centroide = activaciones_train.mean(dim=0)"
      ],
      "metadata": {
        "id": "4O6cEdinDbef"
      },
      "execution_count": null,
      "outputs": []
    },
    {
      "cell_type": "code",
      "source": [
        "activaciones_train = []\n",
        "\n",
        "with torch.no_grad():\n",
        "    for x_enc, x_mark_enc, x_dec, x_mark_dec, _ in train_loader:\n",
        "        xb = x_enc.to(device)\n",
        "        latente = core_informer(xb, return_latent=True)\n",
        "        activaciones_train.append(latente.cpu())  # suponiendo que ya devuelve shape (B, D)\n",
        "\n",
        "activaciones_train = torch.cat(activaciones_train, dim=0)"
      ],
      "metadata": {
        "id": "x7lerkgtDdD4"
      },
      "execution_count": null,
      "outputs": []
    },
    {
      "cell_type": "code",
      "source": [
        "centroide = activaciones_train.mean(dim=0)  # shape: (D,)\n"
      ],
      "metadata": {
        "id": "zU12dOWZUFtJ"
      },
      "execution_count": null,
      "outputs": []
    },
    {
      "cell_type": "code",
      "source": [
        "distancias = []\n",
        "\n",
        "with torch.no_grad():\n",
        "    for x_enc, x_mark_enc, x_dec, x_mark_dec, _ in test_loader:\n",
        "        xb = x_enc.to(device)\n",
        "        latente = core_informer(xb, return_latent=True)\n",
        "        dist = torch.norm(latente.cpu() - centroide, dim=1)  # Euclidiana\n",
        "        distancias.append(dist)\n",
        "\n",
        "distancias = torch.cat(distancias, dim=0)  # shape: (N_test,)"
      ],
      "metadata": {
        "id": "T_EFyWoQUIk4"
      },
      "execution_count": null,
      "outputs": []
    },
    {
      "cell_type": "code",
      "source": [
        "import numpy as np\n",
        "\n",
        "umbral = np.percentile(distancias.numpy(), 53)  # o ajustalo según tus necesidades\n",
        "y_pred = (distancias.numpy() > umbral).astype(int)"
      ],
      "metadata": {
        "id": "VLXvnuXEUKSe"
      },
      "execution_count": null,
      "outputs": []
    },
    {
      "cell_type": "code",
      "source": [
        "from sklearn.metrics import classification_report, confusion_matrix, f1_score\n",
        "\n",
        "print(\"Accuracy :\", accuracy_score(y_test, y_pred))\n",
        "print(\"Precision:\", precision_score(y_test, y_pred))\n",
        "print(\"Recall   :\", recall_score(y_test, y_pred))\n",
        "print(\"F1-score :\", f1_score(y_test, y_pred, pos_label=1, average='binary'))\n",
        "print(\"AUC-ROC  :\", roc_auc_score(y_test, y_pred))\n",
        "\n",
        "cm = confusion_matrix(y_test, y_pred)\n",
        "print(cm)\n",
        "print(classification_report(y_test, y_pred, digits=4))\n",
        "\n",
        "plt.figure(figsize=(6,5))\n",
        "sns.heatmap(cm, annot=True, fmt=\"d\", cmap=\"coolwarm\", xticklabels=[\"Normal\", \"Anomalous\"], yticklabels=[\"Normal\", \"Anomalous\"])\n",
        "plt.xlabel(\"Prediction\")\n",
        "plt.ylabel(\"True Class\")\n",
        "plt.title(\"Confusion Matrix\")\n",
        "plt.show()"
      ],
      "metadata": {
        "colab": {
          "base_uri": "https://localhost:8080/",
          "height": 765
        },
        "id": "qatRM6FeUkoY",
        "outputId": "30f4fdd0-491f-4772-818b-d0de49a5bbee"
      },
      "execution_count": null,
      "outputs": [
        {
          "output_type": "stream",
          "name": "stdout",
          "text": [
            "Accuracy : 0.9966504854368932\n",
            "Precision: 0.9928733732699856\n",
            "Recall   : 1.0\n",
            "F1-score : 0.99642394402695\n",
            "AUC-ROC  : 0.996859925366342\n",
            "[[10918    69]\n",
            " [    0  9613]]\n",
            "              precision    recall  f1-score   support\n",
            "\n",
            "         0.0     1.0000    0.9937    0.9969     10987\n",
            "         1.0     0.9929    1.0000    0.9964      9613\n",
            "\n",
            "    accuracy                         0.9967     20600\n",
            "   macro avg     0.9964    0.9969    0.9966     20600\n",
            "weighted avg     0.9967    0.9967    0.9967     20600\n",
            "\n"
          ]
        },
        {
          "output_type": "display_data",
          "data": {
            "text/plain": [
              "<Figure size 600x500 with 2 Axes>"
            ],
            "image/png": "[encoded data removed]"
          },
          "metadata": {}
        }
      ]
    },
    {
      "cell_type": "code",
      "source": [
        "total_anomalias = int(np.sum(y_test))  # Cantidad total de anomalías\n",
        "anomalías_predichas = int(np.sum(y_pred.astype(int)))  # Convertir booleanos a enteros\n",
        "\n",
        "# Crear gráfico de barras\n",
        "plt.bar([\"Real Anomalies\", \"Anomalies Detected\"], [total_anomalias, anomalías_predichas], color=['red', 'blue'])\n",
        "\n",
        "# Personalizar gráfico\n",
        "plt.ylabel(\"Number of Anomalies\")\n",
        "plt.title(\"Comparison of Real vs. Predicted Anomalies\")\n",
        "plt.show()\n"
      ],
      "metadata": {
        "colab": {
          "base_uri": "https://localhost:8080/",
          "height": 452
        },
        "id": "YGCPz0baWmP2",
        "outputId": "ebd4d399-74f9-4820-8f26-ef2241583311"
      },
      "execution_count": null,
      "outputs": [
        {
          "output_type": "display_data",
          "data": {
            "text/plain": [
              "<Figure size 640x480 with 1 Axes>"
            ],
            "image/png": "[encoded data removed]"
          },
          "metadata": {}
        }
      ]
    },
    {
      "cell_type": "code",
      "source": [
        "guardar_proyecto(core_informer, y_test, y_pred, cm, num_epochs, nombre_base='informer_ocl_dt1_ws_400_bs_32_e_10_acc_9933')"
      ],
      "metadata": {
        "colab": {
          "base_uri": "https://localhost:8080/"
        },
        "id": "z_hQtzw7Wtt6",
        "outputId": "e334e763-34de-4ff2-fcf0-0cbec6398cd7"
      },
      "execution_count": null,
      "outputs": [
        {
          "output_type": "stream",
          "name": "stdout",
          "text": [
            "✅ Todo guardado exitosamente en la carpeta: /content/drive/MyDrive/3w-dataset-train-test/entrenamientos-2/informer_ocl_dt1_ws_400_bs_32_e_5_acc_9933_20250623_002740\n"
          ]
        },
        {
          "output_type": "stream",
          "name": "stderr",
          "text": [
            "/tmp/ipython-input-14-4109425625.py:44: UserWarning: No artists with labels found to put in legend.  Note that artists whose label start with an underscore are ignored when legend() is called with no argument.\n",
            "  plt.legend()\n"
          ]
        }
      ]
    },
    {
      "cell_type": "code",
      "source": [
        "# usar esta linea solo para guardar tu ultima version de informer modificada\n",
        "\n",
        "#rutaInformer = '/content/Informer2020'\n",
        "#!mkdir -p /content/drive/MyDrive/informer-lesly/\n",
        "#!cp -r /content/Informer2020 /content/drive/MyDrive/informer-lesly/"
      ],
      "metadata": {
        "id": "K7_1dl6GTLlq"
      },
      "execution_count": null,
      "outputs": []
    }
  ],
  "metadata": {
    "colab": {
      "provenance": [],
      "gpuType": "V28",
      "machine_shape": "hm",
      "include_colab_link": true
    },
    "kernelspec": {
      "display_name": "Python 3",
      "name": "python3"
    },
    "accelerator": "TPU"
  },
  "nbformat": 4,
  "nbformat_minor": 0
}